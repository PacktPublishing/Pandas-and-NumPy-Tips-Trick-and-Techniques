{
 "cells": [
  {
   "cell_type": "markdown",
   "metadata": {},
   "source": [
    "# Clipping & Sampling"
   ]
  },
  {
   "cell_type": "code",
   "execution_count": 1,
   "metadata": {},
   "outputs": [],
   "source": [
    "import numpy as np\n",
    "import numpy.random as npr"
   ]
  },
  {
   "cell_type": "code",
   "execution_count": 2,
   "metadata": {},
   "outputs": [
    {
     "name": "stdout",
     "output_type": "stream",
     "text": [
      "[  5  -8   4   6  -4   9  -1   2   7   6   9  -2   1   3   8  -4  -8  -7\n",
      "  -2  -5 -10  -5   0   9  -5   1   4   8  -2  -7   8   5   1  -9  -6   5\n",
      "   7   5 -10   2 -10   5  -9  -1   1  -1  -4   6   5  -2  -6   7   7   9\n",
      "   1  -7  -3   4  -8  -6  -1   8   3  -9  -8  -6  -2   3 -10  -5   8   5\n",
      "   9   6   4  -1   9   5  -2   3  -8   8  -6   9   5  -5   8 -10  -7   4\n",
      " -10   1 -10   5  -6   3   3  -8   4  -8]\n"
     ]
    }
   ],
   "source": [
    "x = npr.randint(-10,10, size=100)\n",
    "print(x)"
   ]
  },
  {
   "cell_type": "markdown",
   "metadata": {},
   "source": [
    "### Get observations that meet an upper and lower bound"
   ]
  },
  {
   "cell_type": "code",
   "execution_count": 5,
   "metadata": {},
   "outputs": [
    {
     "data": {
      "text/plain": [
       "array([ 0, -4,  0,  0, -4,  0, -1,  0,  0,  0,  0, -2,  0,  0,  0, -4, -4,\n",
       "       -4, -2, -4, -4, -4,  0,  0, -4,  0,  0,  0, -2, -4,  0,  0,  0, -4,\n",
       "       -4,  0,  0,  0, -4,  0, -4,  0, -4, -1,  0, -1, -4,  0,  0, -2, -4,\n",
       "        0,  0,  0,  0, -4, -3,  0, -4, -4, -1,  0,  0, -4, -4, -4, -2,  0,\n",
       "       -4, -4,  0,  0,  0,  0,  0, -1,  0,  0, -2,  0, -4,  0, -4,  0,  0,\n",
       "       -4,  0, -4, -4,  0, -4,  0, -4,  0, -4,  0,  0, -4,  0, -4])"
      ]
     },
     "execution_count": 5,
     "metadata": {},
     "output_type": "execute_result"
    }
   ],
   "source": [
    "np.clip(x, -4, 0)"
   ]
  },
  {
   "cell_type": "markdown",
   "metadata": {},
   "source": [
    "### Replace observations with a threshold value"
   ]
  },
  {
   "cell_type": "code",
   "execution_count": 6,
   "metadata": {},
   "outputs": [
    {
     "data": {
      "text/plain": [
       "array([5, 0, 4, 6, 0, 9, 0, 2, 7, 6, 9, 0, 1, 3, 8, 0, 0, 0, 0, 0, 0, 0,\n",
       "       0, 9, 0, 1, 4, 8, 0, 0, 8, 5, 1, 0, 0, 5, 7, 5, 0, 2, 0, 5, 0, 0,\n",
       "       1, 0, 0, 6, 5, 0, 0, 7, 7, 9, 1, 0, 0, 4, 0, 0, 0, 8, 3, 0, 0, 0,\n",
       "       0, 3, 0, 0, 8, 5, 9, 6, 4, 0, 9, 5, 0, 3, 0, 8, 0, 9, 5, 0, 8, 0,\n",
       "       0, 4, 0, 1, 0, 5, 0, 3, 3, 0, 4, 0])"
      ]
     },
     "execution_count": 6,
     "metadata": {},
     "output_type": "execute_result"
    }
   ],
   "source": [
    "x.clip(0)"
   ]
  },
  {
   "cell_type": "markdown",
   "metadata": {},
   "source": [
    "### Random Sampling"
   ]
  },
  {
   "cell_type": "code",
   "execution_count": 8,
   "metadata": {},
   "outputs": [
    {
     "name": "stdout",
     "output_type": "stream",
     "text": [
      "[507 556 444 471 933 761 877 690 707  37  27  26 660  38 690 633 790 968\n",
      " 673  16   9 514 335 280 546 127 463 884 347 539 904 492 496 133  33 411\n",
      " 879 246 769 800  50 948 990 907 811 791 589 328 620 252 400 441  28  57\n",
      " 142 722 781 663 177 959 197 313 242 107 416 551 232 231 822  58 684 907\n",
      " 427 899 516 115 634 588 470 110 496 490 167 703 467 140  20 492 508 595\n",
      " 814 765 270 478 720 783  94  22 170 361]\n"
     ]
    }
   ],
   "source": [
    "y = npr.randint(1000, size=100)\n",
    "print(y)"
   ]
  },
  {
   "cell_type": "code",
   "execution_count": 10,
   "metadata": {},
   "outputs": [
    {
     "data": {
      "text/plain": [
       "array([441,  50, 508, 904, 690, 246, 496, 769, 242, 508,  20, 490, 252,\n",
       "       899, 800, 496, 588,  50, 242, 556])"
      ]
     },
     "execution_count": 10,
     "metadata": {},
     "output_type": "execute_result"
    }
   ],
   "source": [
    "npr.choice(y,20, replace=False)"
   ]
  },
  {
   "cell_type": "markdown",
   "metadata": {},
   "source": [
    "### Choice can also be used to generate a non-uniform probability distribution"
   ]
  },
  {
   "cell_type": "code",
   "execution_count": 13,
   "metadata": {},
   "outputs": [
    {
     "data": {
      "text/plain": [
       "array([6])"
      ]
     },
     "execution_count": 13,
     "metadata": {},
     "output_type": "execute_result"
    }
   ],
   "source": [
    "npr.choice(np.arange(1,7), 1, p=[.2, .1, .3, .15, .05, .2])"
   ]
  },
  {
   "cell_type": "markdown",
   "metadata": {},
   "source": [
    "### Stable sample "
   ]
  },
  {
   "cell_type": "code",
   "execution_count": 14,
   "metadata": {},
   "outputs": [],
   "source": [
    "z = npr.random(100)\n",
    "sample = np.argsort(z)"
   ]
  },
  {
   "cell_type": "code",
   "execution_count": 15,
   "metadata": {},
   "outputs": [
    {
     "data": {
      "text/plain": [
       "array([12, 18, 82,  6, 17, 49, 24, 61, 46, 95, 73, 80, 86, 53, 31, 52, 25,\n",
       "       20, 94, 14, 77, 96, 56,  4, 79,  0, 48, 64, 89, 63,  3, 81, 69, 40,\n",
       "       34, 60, 29, 27, 42, 97, 99, 47, 68, 28, 26, 10, 19, 43, 59,  9, 84,\n",
       "        7, 93,  2, 75, 23, 98, 45, 50, 38, 57, 65, 35, 67, 30, 83, 74, 90,\n",
       "       70, 15,  8, 87, 66, 11, 13, 16,  1, 44, 21, 91, 76, 36, 51, 37, 54,\n",
       "       33, 32, 41, 55, 72, 22, 58, 62, 78, 39, 71, 88, 85, 92,  5],\n",
       "      dtype=int64)"
      ]
     },
     "execution_count": 15,
     "metadata": {},
     "output_type": "execute_result"
    }
   ],
   "source": [
    "sample"
   ]
  },
  {
   "cell_type": "code",
   "execution_count": 17,
   "metadata": {},
   "outputs": [
    {
     "data": {
      "text/plain": [
       "array([0.01019713, 0.02503726, 0.05120569, 0.05446962, 0.07030664,\n",
       "       0.07635801, 0.07806412, 0.08919433, 0.09451023, 0.09743501,\n",
       "       0.09879919, 0.10667194, 0.12055779, 0.13721775, 0.14060399,\n",
       "       0.14179875, 0.16014426, 0.17941103, 0.17971105, 0.18868029])"
      ]
     },
     "execution_count": 17,
     "metadata": {},
     "output_type": "execute_result"
    }
   ],
   "source": [
    "z[sample][:20]"
   ]
  },
  {
   "cell_type": "code",
   "execution_count": 18,
   "metadata": {},
   "outputs": [
    {
     "data": {
      "text/plain": [
       "array([660, 673, 167, 877, 968, 252, 546, 313, 589, 783, 899, 496,  20,\n",
       "        57, 492,  28, 127,   9, 720, 690])"
      ]
     },
     "execution_count": 18,
     "metadata": {},
     "output_type": "execute_result"
    }
   ],
   "source": [
    "y[sample][:20]"
   ]
  },
  {
   "cell_type": "code",
   "execution_count": null,
   "metadata": {},
   "outputs": [],
   "source": []
  },
  {
   "cell_type": "code",
   "execution_count": null,
   "metadata": {},
   "outputs": [],
   "source": []
  },
  {
   "cell_type": "code",
   "execution_count": null,
   "metadata": {},
   "outputs": [],
   "source": []
  }
 ],
 "metadata": {
  "kernelspec": {
   "display_name": "Python 3",
   "language": "python",
   "name": "python3"
  },
  "language_info": {
   "codemirror_mode": {
    "name": "ipython",
    "version": 3
   },
   "file_extension": ".py",
   "mimetype": "text/x-python",
   "name": "python",
   "nbconvert_exporter": "python",
   "pygments_lexer": "ipython3",
   "version": "3.7.2"
  }
 },
 "nbformat": 4,
 "nbformat_minor": 2
}
