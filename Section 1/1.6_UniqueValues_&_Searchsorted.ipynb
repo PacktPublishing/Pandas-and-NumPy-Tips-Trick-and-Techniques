{
 "cells": [
  {
   "cell_type": "markdown",
   "metadata": {},
   "source": [
    "# Finding Unique Values and Insertion Points"
   ]
  },
  {
   "cell_type": "code",
   "execution_count": 1,
   "metadata": {},
   "outputs": [],
   "source": [
    "import numpy as np\n",
    "import numpy.random as npr\n",
    "from itertools import combinations"
   ]
  },
  {
   "cell_type": "code",
   "execution_count": 7,
   "metadata": {},
   "outputs": [
    {
     "data": {
      "text/plain": [
       "array(['CGK', 'DEG', 'FKL', 'BDE', 'DEG', 'CDH', 'AJL', 'BKL', 'HKL',\n",
       "       'GHM', 'EFM', 'DHL', 'EHJ', 'DGK', 'AEL', 'BHK', 'FKM', 'ACJ',\n",
       "       'EJL', 'CGJ', 'HKM', 'FLM', 'DGH', 'CGJ', 'CFM', 'EFM', 'AGJ',\n",
       "       'DGJ', 'EKL', 'ABD', 'HLM', 'ABM', 'DEL', 'ABL', 'EGH', 'ACH',\n",
       "       'EJM', 'DFK', 'DEH', 'EFM', 'GKM', 'FKM', 'CFL', 'EHJ', 'FJM',\n",
       "       'DGJ', 'AHM', 'AEK', 'CDL', 'AHK', 'EHJ', 'AGK', 'BKM', 'CFH',\n",
       "       'FHK', 'DHK', 'EJL', 'CDG', 'AGH', 'DEK'], dtype='<U3')"
      ]
     },
     "execution_count": 7,
     "metadata": {},
     "output_type": "execute_result"
    }
   ],
   "source": [
    "available = [x[0] + x[1] + x[2] for x in combinations(\"ABCDEFGHJKLM\", 3)]\n",
    "symbols = npr.choice(available, 60)\n",
    "symbols"
   ]
  },
  {
   "cell_type": "markdown",
   "metadata": {},
   "source": [
    "### Returns sorted array of unique observations"
   ]
  },
  {
   "cell_type": "code",
   "execution_count": 8,
   "metadata": {},
   "outputs": [
    {
     "data": {
      "text/plain": [
       "array(['ABD', 'ABL', 'ABM', 'ACH', 'ACJ', 'AEK', 'AEL', 'AGH', 'AGJ',\n",
       "       'AGK', 'AHK', 'AHM', 'AJL', 'BDE', 'BHK', 'BKL', 'BKM', 'CDG',\n",
       "       'CDH', 'CDL', 'CFH', 'CFL', 'CFM', 'CGJ', 'CGK', 'DEG', 'DEH',\n",
       "       'DEK', 'DEL', 'DFK', 'DGH', 'DGJ', 'DGK', 'DHK', 'DHL', 'EFM',\n",
       "       'EGH', 'EHJ', 'EJL', 'EJM', 'EKL', 'FHK', 'FJM', 'FKL', 'FKM',\n",
       "       'FLM', 'GHM', 'GKM', 'HKL', 'HKM', 'HLM'], dtype='<U3')"
      ]
     },
     "execution_count": 8,
     "metadata": {},
     "output_type": "execute_result"
    }
   ],
   "source": [
    "np.unique(symbols)"
   ]
  },
  {
   "cell_type": "code",
   "execution_count": 9,
   "metadata": {},
   "outputs": [
    {
     "data": {
      "text/plain": [
       "51"
      ]
     },
     "execution_count": 9,
     "metadata": {},
     "output_type": "execute_result"
    }
   ],
   "source": [
    "len(np.unique(symbols))"
   ]
  },
  {
   "cell_type": "markdown",
   "metadata": {},
   "source": [
    "### Returns sorted array and index where observation occurred"
   ]
  },
  {
   "cell_type": "code",
   "execution_count": 11,
   "metadata": {},
   "outputs": [],
   "source": [
    "a, b = np.unique(symbols, return_index=True)"
   ]
  },
  {
   "cell_type": "code",
   "execution_count": 12,
   "metadata": {},
   "outputs": [
    {
     "data": {
      "text/plain": [
       "array(['ABD', 'ABL', 'ABM', 'ACH', 'ACJ', 'AEK', 'AEL', 'AGH', 'AGJ',\n",
       "       'AGK', 'AHK', 'AHM', 'AJL', 'BDE', 'BHK', 'BKL', 'BKM', 'CDG',\n",
       "       'CDH', 'CDL', 'CFH', 'CFL', 'CFM', 'CGJ', 'CGK', 'DEG', 'DEH',\n",
       "       'DEK', 'DEL', 'DFK', 'DGH', 'DGJ', 'DGK', 'DHK', 'DHL', 'EFM',\n",
       "       'EGH', 'EHJ', 'EJL', 'EJM', 'EKL', 'FHK', 'FJM', 'FKL', 'FKM',\n",
       "       'FLM', 'GHM', 'GKM', 'HKL', 'HKM', 'HLM'], dtype='<U3')"
      ]
     },
     "execution_count": 12,
     "metadata": {},
     "output_type": "execute_result"
    }
   ],
   "source": [
    "a "
   ]
  },
  {
   "cell_type": "code",
   "execution_count": 13,
   "metadata": {},
   "outputs": [
    {
     "data": {
      "text/plain": [
       "array([29, 33, 31, 35, 17, 47, 14, 58, 26, 51, 49, 46,  6,  3, 15,  7, 52,\n",
       "       57,  5, 48, 53, 42, 24, 19,  0,  1, 38, 59, 32, 37, 22, 27, 13, 55,\n",
       "       11, 10, 34, 12, 18, 36, 28, 54, 44,  2, 16, 21,  9, 40,  8, 20, 30],\n",
       "      dtype=int64)"
      ]
     },
     "execution_count": 13,
     "metadata": {},
     "output_type": "execute_result"
    }
   ],
   "source": [
    "b"
   ]
  },
  {
   "cell_type": "code",
   "execution_count": null,
   "metadata": {},
   "outputs": [],
   "source": []
  },
  {
   "cell_type": "markdown",
   "metadata": {},
   "source": [
    "### return_inverse"
   ]
  },
  {
   "cell_type": "code",
   "execution_count": 14,
   "metadata": {},
   "outputs": [],
   "source": [
    "unique, index = np.unique(symbols, return_inverse=True)"
   ]
  },
  {
   "cell_type": "code",
   "execution_count": 15,
   "metadata": {},
   "outputs": [
    {
     "data": {
      "text/plain": [
       "array(['CGK', 'DEG', 'FKL', 'BDE', 'DEG', 'CDH', 'AJL', 'BKL', 'HKL',\n",
       "       'GHM', 'EFM', 'DHL', 'EHJ', 'DGK', 'AEL', 'BHK', 'FKM', 'ACJ',\n",
       "       'EJL', 'CGJ', 'HKM', 'FLM', 'DGH', 'CGJ', 'CFM', 'EFM', 'AGJ',\n",
       "       'DGJ', 'EKL', 'ABD', 'HLM', 'ABM', 'DEL', 'ABL', 'EGH', 'ACH',\n",
       "       'EJM', 'DFK', 'DEH', 'EFM', 'GKM', 'FKM', 'CFL', 'EHJ', 'FJM',\n",
       "       'DGJ', 'AHM', 'AEK', 'CDL', 'AHK', 'EHJ', 'AGK', 'BKM', 'CFH',\n",
       "       'FHK', 'DHK', 'EJL', 'CDG', 'AGH', 'DEK'], dtype='<U3')"
      ]
     },
     "execution_count": 15,
     "metadata": {},
     "output_type": "execute_result"
    }
   ],
   "source": [
    "unique[index]"
   ]
  },
  {
   "cell_type": "code",
   "execution_count": null,
   "metadata": {},
   "outputs": [],
   "source": []
  },
  {
   "cell_type": "markdown",
   "metadata": {},
   "source": [
    "### Return counts of observations"
   ]
  },
  {
   "cell_type": "code",
   "execution_count": 16,
   "metadata": {},
   "outputs": [
    {
     "data": {
      "text/plain": [
       "(array(['ABD', 'ABL', 'ABM', 'ACH', 'ACJ', 'AEK', 'AEL', 'AGH', 'AGJ',\n",
       "        'AGK', 'AHK', 'AHM', 'AJL', 'BDE', 'BHK', 'BKL', 'BKM', 'CDG',\n",
       "        'CDH', 'CDL', 'CFH', 'CFL', 'CFM', 'CGJ', 'CGK', 'DEG', 'DEH',\n",
       "        'DEK', 'DEL', 'DFK', 'DGH', 'DGJ', 'DGK', 'DHK', 'DHL', 'EFM',\n",
       "        'EGH', 'EHJ', 'EJL', 'EJM', 'EKL', 'FHK', 'FJM', 'FKL', 'FKM',\n",
       "        'FLM', 'GHM', 'GKM', 'HKL', 'HKM', 'HLM'], dtype='<U3'),\n",
       " array([1, 1, 1, 1, 1, 1, 1, 1, 1, 1, 1, 1, 1, 1, 1, 1, 1, 1, 1, 1, 1, 1,\n",
       "        1, 2, 1, 2, 1, 1, 1, 1, 1, 2, 1, 1, 1, 3, 1, 3, 2, 1, 1, 1, 1, 1,\n",
       "        2, 1, 1, 1, 1, 1, 1], dtype=int64))"
      ]
     },
     "execution_count": 16,
     "metadata": {},
     "output_type": "execute_result"
    }
   ],
   "source": [
    "np.unique(symbols, return_counts=True)"
   ]
  },
  {
   "cell_type": "markdown",
   "metadata": {},
   "source": [
    "### Return the index where a value should be inserted to maintain order in sorted array"
   ]
  },
  {
   "cell_type": "code",
   "execution_count": 17,
   "metadata": {},
   "outputs": [
    {
     "data": {
      "text/plain": [
       "4"
      ]
     },
     "execution_count": 17,
     "metadata": {},
     "output_type": "execute_result"
    }
   ],
   "source": [
    "np.searchsorted(symbols, \"BFD\")"
   ]
  },
  {
   "cell_type": "code",
   "execution_count": 18,
   "metadata": {},
   "outputs": [
    {
     "data": {
      "text/plain": [
       "array([ 4,  0, 60], dtype=int64)"
      ]
     },
     "execution_count": 18,
     "metadata": {},
     "output_type": "execute_result"
    }
   ],
   "source": [
    "np.searchsorted(symbols, ['BFD', 'AKA', 'IMO'])"
   ]
  },
  {
   "cell_type": "code",
   "execution_count": null,
   "metadata": {},
   "outputs": [],
   "source": []
  },
  {
   "cell_type": "code",
   "execution_count": null,
   "metadata": {},
   "outputs": [],
   "source": []
  },
  {
   "cell_type": "code",
   "execution_count": null,
   "metadata": {},
   "outputs": [],
   "source": []
  },
  {
   "cell_type": "code",
   "execution_count": null,
   "metadata": {},
   "outputs": [],
   "source": []
  }
 ],
 "metadata": {
  "kernelspec": {
   "display_name": "Python 3",
   "language": "python",
   "name": "python3"
  },
  "language_info": {
   "codemirror_mode": {
    "name": "ipython",
    "version": 3
   },
   "file_extension": ".py",
   "mimetype": "text/x-python",
   "name": "python",
   "nbconvert_exporter": "python",
   "pygments_lexer": "ipython3",
   "version": "3.7.2"
  }
 },
 "nbformat": 4,
 "nbformat_minor": 2
}
