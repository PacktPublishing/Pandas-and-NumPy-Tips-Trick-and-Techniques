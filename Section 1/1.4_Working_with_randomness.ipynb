{
 "cells": [
  {
   "cell_type": "markdown",
   "metadata": {},
   "source": [
    "# Working with Random Distributions"
   ]
  },
  {
   "cell_type": "markdown",
   "metadata": {},
   "source": [
    "### If you are going to being working with the random module a lot, it's helpful to give it an alias"
   ]
  },
  {
   "cell_type": "code",
   "execution_count": 1,
   "metadata": {},
   "outputs": [],
   "source": [
    "import numpy as np\n",
    "import numpy.random as npr\n",
    "import matplotlib.pyplot as plt"
   ]
  },
  {
   "cell_type": "markdown",
   "metadata": {},
   "source": [
    "### Suppose you need to simulate values from a normal distribution"
   ]
  },
  {
   "cell_type": "code",
   "execution_count": 5,
   "metadata": {},
   "outputs": [
    {
     "name": "stdout",
     "output_type": "stream",
     "text": [
      "{'   0.0191481435'}\n",
      "{'   0.9892669281'}\n"
     ]
    }
   ],
   "source": [
    "x = npr.standard_normal(10000)\n",
    "print({\"{:15.10f}\".format(x.mean())})\n",
    "print({\"{:15.10f}\".format(x.std())})"
   ]
  },
  {
   "cell_type": "code",
   "execution_count": 6,
   "metadata": {},
   "outputs": [
    {
     "data": {
      "text/plain": [
       "(array([  1.,   0.,   0.,   1.,   0.,   2.,   3.,   6.,   3.,   9.,  26.,\n",
       "         27.,  59.,  60.,  76., 100., 135., 193., 247., 305., 350., 446.,\n",
       "        472., 551., 508., 580., 613., 641., 579., 641., 539., 488., 468.,\n",
       "        406., 325., 280., 240., 184., 110., 105.,  89.,  50.,  29.,  11.,\n",
       "         14.,  10.,   7.,   6.,   3.,   2.]),\n",
       " array([-4.23805326, -4.08215338, -3.9262535 , -3.77035362, -3.61445374,\n",
       "        -3.45855386, -3.30265398, -3.1467541 , -2.99085421, -2.83495433,\n",
       "        -2.67905445, -2.52315457, -2.36725469, -2.21135481, -2.05545493,\n",
       "        -1.89955505, -1.74365517, -1.58775529, -1.43185541, -1.27595553,\n",
       "        -1.12005565, -0.96415577, -0.80825589, -0.65235601, -0.49645613,\n",
       "        -0.34055625, -0.18465637, -0.02875649,  0.12714339,  0.28304327,\n",
       "         0.43894315,  0.59484303,  0.75074291,  0.90664279,  1.06254267,\n",
       "         1.21844255,  1.37434243,  1.53024231,  1.68614219,  1.84204207,\n",
       "         1.99794196,  2.15384184,  2.30974172,  2.4656416 ,  2.62154148,\n",
       "         2.77744136,  2.93334124,  3.08924112,  3.245141  ,  3.40104088,\n",
       "         3.55694076]),\n",
       " <a list of 50 Patch objects>)"
      ]
     },
     "execution_count": 6,
     "metadata": {},
     "output_type": "execute_result"
    },
    {
     "data": {
      "image/png": "[encoded data removed]",
      "text/plain": [
       "<Figure size 432x288 with 1 Axes>"
      ]
     },
     "metadata": {
      "needs_background": "light"
     },
     "output_type": "display_data"
    }
   ],
   "source": [
    "plt.hist(x,bins=50)"
   ]
  },
  {
   "cell_type": "code",
   "execution_count": 8,
   "metadata": {},
   "outputs": [
    {
     "name": "stdout",
     "output_type": "stream",
     "text": [
      "   0.0000000000\n",
      "   0.9894522254\n"
     ]
    }
   ],
   "source": [
    "y = np.concatenate([x, -x])\n",
    "print(\"{:15.10f}\".format(y.mean()))\n",
    "print(\"{:15.10f}\".format(y.std()))"
   ]
  },
  {
   "cell_type": "code",
   "execution_count": 9,
   "metadata": {},
   "outputs": [
    {
     "data": {
      "text/plain": [
       "(array([1.000e+00, 0.000e+00, 0.000e+00, 1.000e+00, 4.000e+00, 8.000e+00,\n",
       "        8.000e+00, 1.400e+01, 1.700e+01, 4.500e+01, 4.700e+01, 1.120e+02,\n",
       "        1.470e+02, 1.980e+02, 2.420e+02, 3.510e+02, 4.980e+02, 6.330e+02,\n",
       "        7.050e+02, 9.360e+02, 1.031e+03, 1.109e+03, 1.255e+03, 1.288e+03,\n",
       "        1.350e+03, 1.350e+03, 1.288e+03, 1.255e+03, 1.109e+03, 1.031e+03,\n",
       "        9.360e+02, 7.050e+02, 6.330e+02, 4.980e+02, 3.510e+02, 2.420e+02,\n",
       "        1.980e+02, 1.470e+02, 1.120e+02, 4.700e+01, 4.500e+01, 1.700e+01,\n",
       "        1.400e+01, 8.000e+00, 8.000e+00, 4.000e+00, 1.000e+00, 0.000e+00,\n",
       "        0.000e+00, 1.000e+00]),\n",
       " array([-4.23805326, -4.06853113, -3.899009  , -3.72948687, -3.55996474,\n",
       "        -3.39044261, -3.22092048, -3.05139835, -2.88187622, -2.71235408,\n",
       "        -2.54283195, -2.37330982, -2.20378769, -2.03426556, -1.86474343,\n",
       "        -1.6952213 , -1.52569917, -1.35617704, -1.18665491, -1.01713278,\n",
       "        -0.84761065, -0.67808852, -0.50856639, -0.33904426, -0.16952213,\n",
       "         0.        ,  0.16952213,  0.33904426,  0.50856639,  0.67808852,\n",
       "         0.84761065,  1.01713278,  1.18665491,  1.35617704,  1.52569917,\n",
       "         1.6952213 ,  1.86474343,  2.03426556,  2.20378769,  2.37330982,\n",
       "         2.54283195,  2.71235408,  2.88187622,  3.05139835,  3.22092048,\n",
       "         3.39044261,  3.55996474,  3.72948687,  3.899009  ,  4.06853113,\n",
       "         4.23805326]),\n",
       " <a list of 50 Patch objects>)"
      ]
     },
     "execution_count": 9,
     "metadata": {},
     "output_type": "execute_result"
    },
    {
     "data": {
      "image/png": "[encoded data removed]",
      "text/plain": [
       "<Figure size 432x288 with 1 Axes>"
      ]
     },
     "metadata": {
      "needs_background": "light"
     },
     "output_type": "display_data"
    }
   ],
   "source": [
    "plt.hist(y,bins=50)"
   ]
  },
  {
   "cell_type": "markdown",
   "metadata": {},
   "source": [
    "### Normalizing data will give us a variance of 1"
   ]
  },
  {
   "cell_type": "code",
   "execution_count": 10,
   "metadata": {},
   "outputs": [],
   "source": [
    "z = (y-y.mean()) / y.std()"
   ]
  },
  {
   "cell_type": "code",
   "execution_count": null,
   "metadata": {},
   "outputs": [],
   "source": []
  },
  {
   "cell_type": "code",
   "execution_count": null,
   "metadata": {},
   "outputs": [],
   "source": []
  },
  {
   "cell_type": "code",
   "execution_count": 11,
   "metadata": {},
   "outputs": [
    {
     "name": "stdout",
     "output_type": "stream",
     "text": [
      "   0.9894522254\n",
      "   1.0000000000\n",
      "   0.0000000000\n"
     ]
    }
   ],
   "source": [
    "print(\"{:15.10f}\".format(y.std()))\n",
    "print(\"{:15.10f}\".format(z.std()))\n",
    "print(\"{:15.10f}\".format(z.mean()))"
   ]
  },
  {
   "cell_type": "markdown",
   "metadata": {},
   "source": [
    "### To isolate the randomness for sensitivity analysis use a seed value"
   ]
  },
  {
   "cell_type": "code",
   "execution_count": 14,
   "metadata": {},
   "outputs": [
    {
     "data": {
      "text/plain": [
       "array([0.29999254, 0.01632054, 0.75364145, 0.45304249, 0.27624593,\n",
       "       0.81486659, 0.5780091 , 0.4219129 , 0.04986685, 0.42510247])"
      ]
     },
     "execution_count": 14,
     "metadata": {},
     "output_type": "execute_result"
    }
   ],
   "source": [
    "c = npr.random(10)\n",
    "c"
   ]
  },
  {
   "cell_type": "code",
   "execution_count": 17,
   "metadata": {},
   "outputs": [
    {
     "data": {
      "text/plain": [
       "array([0.37454012, 0.95071431, 0.73199394, 0.59865848, 0.15601864,\n",
       "       0.15599452, 0.05808361, 0.86617615, 0.60111501, 0.70807258])"
      ]
     },
     "execution_count": 17,
     "metadata": {},
     "output_type": "execute_result"
    }
   ],
   "source": [
    "npr.seed(42)\n",
    "d = npr.random(10)\n",
    "d"
   ]
  },
  {
   "cell_type": "code",
   "execution_count": null,
   "metadata": {},
   "outputs": [],
   "source": []
  },
  {
   "cell_type": "code",
   "execution_count": null,
   "metadata": {},
   "outputs": [],
   "source": []
  }
 ],
 "metadata": {
  "kernelspec": {
   "display_name": "Python 3",
   "language": "python",
   "name": "python3"
  },
  "language_info": {
   "codemirror_mode": {
    "name": "ipython",
    "version": 3
   },
   "file_extension": ".py",
   "mimetype": "text/x-python",
   "name": "python",
   "nbconvert_exporter": "python",
   "pygments_lexer": "ipython3",
   "version": "3.7.2"
  }
 },
 "nbformat": 4,
 "nbformat_minor": 2
}
